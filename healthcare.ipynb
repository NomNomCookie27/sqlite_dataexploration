{
 "cells": [
  {
   "cell_type": "markdown",
   "metadata": {},
   "source": [
    "# Heart Disease Data Exploration with SQLite and Pandas"
   ]
  },
  {
   "cell_type": "markdown",
   "metadata": {},
   "source": [
    "### Creating SQLite database"
   ]
  },
  {
   "cell_type": "code",
   "execution_count": 1,
   "metadata": {},
   "outputs": [],
   "source": [
    "import sqlite3\n",
    "conn = sqlite3.connect('healthcare.db')  # Create or connect to the SQLite database\n"
   ]
  },
  {
   "cell_type": "markdown",
   "metadata": {},
   "source": [
    "### Loading dataset into Pandas"
   ]
  },
  {
   "cell_type": "code",
   "execution_count": 2,
   "metadata": {},
   "outputs": [],
   "source": [
    "import pandas as pd\n",
    "df = pd.read_csv('heart_disease_uci.csv')  # Replace with the actual path to your CSV file\n"
   ]
  },
  {
   "cell_type": "markdown",
   "metadata": {},
   "source": [
    "### Inserting data into SQLite database"
   ]
  },
  {
   "cell_type": "code",
   "execution_count": 3,
   "metadata": {},
   "outputs": [
    {
     "data": {
      "text/plain": [
       "920"
      ]
     },
     "execution_count": 3,
     "metadata": {},
     "output_type": "execute_result"
    }
   ],
   "source": [
    "df.to_sql('healthcare_data', conn, if_exists='replace', index=False)\n"
   ]
  },
  {
   "cell_type": "markdown",
   "metadata": {},
   "source": [
    "### Selecting all records where a patient is older than 60:"
   ]
  },
  {
   "cell_type": "code",
   "execution_count": 4,
   "metadata": {},
   "outputs": [
    {
     "name": "stdout",
     "output_type": "stream",
     "text": [
      "      id  age     sex        dataset               cp  trestbps   chol  fbs  \\\n",
      "0      1   63    Male      Cleveland   typical angina     145.0  233.0  1.0   \n",
      "1      2   67    Male      Cleveland     asymptomatic     160.0  286.0  0.0   \n",
      "2      3   67    Male      Cleveland     asymptomatic     120.0  229.0  0.0   \n",
      "3      7   62  Female      Cleveland     asymptomatic     140.0  268.0  0.0   \n",
      "4      9   63    Male      Cleveland     asymptomatic     130.0  254.0  0.0   \n",
      "..   ...  ...     ...            ...              ...       ...    ...  ...   \n",
      "216  910   68    Male  VA Long Beach      non-anginal     134.0  254.0  1.0   \n",
      "217  912   62    Male  VA Long Beach     asymptomatic     160.0  254.0  1.0   \n",
      "218  914   62    Male  VA Long Beach     asymptomatic     158.0  170.0  0.0   \n",
      "219  917   62    Male  VA Long Beach   typical angina       NaN  139.0  0.0   \n",
      "220  920   62    Male  VA Long Beach  atypical angina     120.0  254.0  0.0   \n",
      "\n",
      "              restecg  thalch  exang  oldpeak        slope   ca  \\\n",
      "0      lv hypertrophy   150.0    0.0      2.3  downsloping  0.0   \n",
      "1      lv hypertrophy   108.0    1.0      1.5         flat  3.0   \n",
      "2      lv hypertrophy   129.0    1.0      2.6         flat  2.0   \n",
      "3      lv hypertrophy   160.0    0.0      3.6  downsloping  2.0   \n",
      "4      lv hypertrophy   147.0    0.0      1.4         flat  1.0   \n",
      "..                ...     ...    ...      ...          ...  ...   \n",
      "216            normal   151.0    1.0      0.0         None  NaN   \n",
      "217  st-t abnormality   108.0    1.0      3.0         flat  NaN   \n",
      "218  st-t abnormality   138.0    1.0      0.0         None  NaN   \n",
      "219  st-t abnormality     NaN    NaN      NaN         None  NaN   \n",
      "220    lv hypertrophy    93.0    1.0      0.0         None  NaN   \n",
      "\n",
      "                  thal  num  \n",
      "0         fixed defect    0  \n",
      "1               normal    2  \n",
      "2    reversable defect    1  \n",
      "3               normal    3  \n",
      "4    reversable defect    2  \n",
      "..                 ...  ...  \n",
      "216             normal    0  \n",
      "217               None    4  \n",
      "218               None    1  \n",
      "219               None    0  \n",
      "220               None    1  \n",
      "\n",
      "[221 rows x 16 columns]\n"
     ]
    }
   ],
   "source": [
    "query1 = pd.read_sql_query(\"SELECT * FROM healthcare_data WHERE age > 60\", conn)\n",
    "print(query1)\n"
   ]
  },
  {
   "cell_type": "markdown",
   "metadata": {},
   "source": [
    "### Counting number of records where sex is Female:"
   ]
  },
  {
   "cell_type": "code",
   "execution_count": 8,
   "metadata": {},
   "outputs": [
    {
     "name": "stdout",
     "output_type": "stream",
     "text": [
      "   COUNT(*)\n",
      "0       194\n"
     ]
    }
   ],
   "source": [
    "query2 = \"SELECT COUNT(*) FROM healthcare_data WHERE sex = 'Female'\"\n",
    "result2 = pd.read_sql_query(query2, conn)\n",
    "print(result2)\n"
   ]
  },
  {
   "cell_type": "markdown",
   "metadata": {},
   "source": [
    "### Grouping by chest pain type (cp) and calculating average age for each group."
   ]
  },
  {
   "cell_type": "code",
   "execution_count": 9,
   "metadata": {},
   "outputs": [
    {
     "name": "stdout",
     "output_type": "stream",
     "text": [
      "                cp    avg_age\n",
      "0     asymptomatic  54.959677\n",
      "1  atypical angina  49.241379\n",
      "2      non-anginal  53.333333\n",
      "3   typical angina  54.826087\n"
     ]
    }
   ],
   "source": [
    "query3 = \"SELECT cp, AVG(age) as avg_age FROM healthcare_data GROUP BY cp\"\n",
    "result3 = pd.read_sql_query(query3, conn)\n",
    "print(result3)\n"
   ]
  },
  {
   "cell_type": "markdown",
   "metadata": {},
   "source": [
    "### Sorting records by cholesterol level (chol) and returning top 5 patients with highest cholesterol:"
   ]
  },
  {
   "cell_type": "code",
   "execution_count": 10,
   "metadata": {},
   "outputs": [
    {
     "name": "stdout",
     "output_type": "stream",
     "text": [
      "    id  age     sex    dataset            cp  trestbps   chol  fbs  \\\n",
      "0  547   54    Male    Hungary  asymptomatic     130.0  603.0    1   \n",
      "1  153   67  Female  Cleveland   non-anginal     115.0  564.0    0   \n",
      "2  529   32    Male    Hungary  asymptomatic     118.0  529.0    0   \n",
      "3  569   53    Male    Hungary   non-anginal     145.0  518.0    0   \n",
      "4  585   44    Male    Hungary  asymptomatic     135.0  491.0    0   \n",
      "\n",
      "          restecg  thalch  exang  oldpeak slope   ca               thal  num  \n",
      "0          normal   125.0      1      1.0  flat  NaN               None    1  \n",
      "1  lv hypertrophy   160.0      0      1.6  flat  0.0  reversable defect    0  \n",
      "2          normal   130.0      0      0.0  None  NaN               None    1  \n",
      "3          normal   130.0      0      0.0  None  NaN               None    1  \n",
      "4          normal   135.0      0      0.0  None  NaN               None    1  \n"
     ]
    }
   ],
   "source": [
    "query4 = \"SELECT * FROM healthcare_data ORDER BY chol DESC LIMIT 5\"\n",
    "result4 = pd.read_sql_query(query4, conn)\n",
    "print(result4)\n"
   ]
  }
 ],
 "metadata": {
  "kernelspec": {
   "display_name": "Python 3",
   "language": "python",
   "name": "python3"
  },
  "language_info": {
   "codemirror_mode": {
    "name": "ipython",
    "version": 3
   },
   "file_extension": ".py",
   "mimetype": "text/x-python",
   "name": "python",
   "nbconvert_exporter": "python",
   "pygments_lexer": "ipython3",
   "version": "3.12.1"
  }
 },
 "nbformat": 4,
 "nbformat_minor": 2
}
